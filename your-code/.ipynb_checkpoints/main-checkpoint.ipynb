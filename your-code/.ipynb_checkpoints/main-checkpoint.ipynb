{
 "cells": [
  {
   "cell_type": "markdown",
   "metadata": {},
   "source": [
    "# Before your start:\n",
    "\n",
    "    Read the README.md file\n",
    "    Comment as much as you can and use the resources (README.md file)\n",
    "    Happy learning!"
   ]
  },
  {
   "cell_type": "markdown",
   "metadata": {},
   "source": [
    "In this exercise, we  will generate random numbers from the continuous disributions we learned in the lesson. There are two ways to generate random numbers:\n",
    "\n",
    "1. Using the numpy library \n",
    "1. using the Scipy library \n",
    "\n",
    "Use either or both of the lbraries in this exercise."
   ]
  },
  {
   "cell_type": "markdown",
   "metadata": {},
   "source": [
    "## Uniform Distribution\n",
    "\n",
    "To generate uniform random numbers between any two given values using scipy, we can either use the following code or the code that we have\n",
    "discussed in class:"
   ]
  },
  {
   "cell_type": "code",
   "execution_count": 3,
   "metadata": {},
   "outputs": [
    {
     "name": "stdout",
     "output_type": "stream",
     "text": [
      "[13.1620348  11.14655681 11.53204386 12.36661398 14.71421045 10.16630513\n",
      " 11.25855278 10.38594678 13.07808347 10.24963661]\n"
     ]
    }
   ],
   "source": [
    "import matplotlib.pyplot as plt\n",
    "from scipy.stats import uniform\n",
    "import numpy as np\n",
    "x = uniform.rvs(size=10)\n",
    "#x2 = uniform.rvs(size=1000)\n",
    "a = 10\n",
    "b = 15\n",
    "randoms  = a + (b-a)*x\n",
    "print(randoms)"
   ]
  },
  {
   "cell_type": "markdown",
   "metadata": {},
   "source": [
    "**Your task:**\n",
    "\n",
    "1. Based on the code above, write a function that generates uniformly distributed random numbers. There are several requirements for your function:\n",
    "    * It should accept 3 parameters: \n",
    "        * `bottom` - the lower boundary of the generated numbers\n",
    "        * `ceiling` - the upper boundary of the generated numbers\n",
    "        * `count` - how many numbers to generate\n",
    "    * It should return an array of uniformly distributed random numbers\n",
    "\n",
    "1. Call your function with 2 sets of params below:\n",
    "    * bottom=10, ceiling=15, count=100\n",
    "    * bottom=10, ceiling=60, count=1,000\n",
    "\n",
    "1. Plot the uniform distributions generated above using histograms, where x axis is the value and y axis is the count. Let the histogram's number of bins be 10.\n",
    "\n",
    "Your output should look like below:\n",
    "\n",
    "![uniform distribution](ud.png)"
   ]
  },
  {
   "cell_type": "code",
   "execution_count": 4,
   "metadata": {},
   "outputs": [
    {
     "data": {
      "text/plain": [
       "(array([ 91.,  99.,  88., 105.,  95., 104., 111.,  93., 107., 107.]),\n",
       " array([10.02623935, 15.02356142, 20.0208835 , 25.01820557, 30.01552764,\n",
       "        35.01284972, 40.01017179, 45.00749387, 50.00481594, 55.00213801,\n",
       "        59.99946009]),\n",
       " <a list of 10 Patch objects>)"
      ]
     },
     "execution_count": 4,
     "metadata": {},
     "output_type": "execute_result"
    },
    {
     "data": {
      "image/png": "[encoded data removed]",
      "text/plain": [
       "<Figure size 432x288 with 2 Axes>"
      ]
     },
     "metadata": {
      "needs_background": "light"
     },
     "output_type": "display_data"
    }
   ],
   "source": [
    "# your code here\n",
    "import seaborn as sns\n",
    "\n",
    "funcrandom=(lambda i,f,c:list(i+((f-i)*uniform.rvs(size=c))))\n",
    "            \n",
    "hist1=funcrandom(10,15,100)\n",
    "hist2=funcrandom(10,60,1000)\n",
    "\n",
    "fg, [ax1,ax2]=plt.subplots(1, 2,sharey=True)\n",
    "\n",
    "ax1.hist(hist1)\n",
    "ax2.hist(hist2)\n",
    "\n"
   ]
  },
  {
   "cell_type": "markdown",
   "metadata": {},
   "source": [
    "How are the two distributions different?"
   ]
  },
  {
   "cell_type": "code",
   "execution_count": null,
   "metadata": {},
   "outputs": [],
   "source": [
    "# your answer below\n",
    "Las dos son continuas, pero una tiene diferentes límites en el eje x , y además tiene diferente el eje y, lo cual puede \n",
    "interpretarse como más variables en la distribución "
   ]
  },
  {
   "cell_type": "markdown",
   "metadata": {},
   "source": [
    "## Normal Distribution\n",
    "\n",
    "1. In the same way in the Uniform Distribution challenge, write a function that generates normally distributed random numbers.\n",
    "1. Generate 1,000 normally distributed numbers with the average of 10 and standard deviation of 1\n",
    "1. Generate 1,000 normally distributed numbers with the average of 10 and standard deviation of 50\n",
    "2. Plot the distributions of the data generated.\n",
    "\n",
    "Expected output:\n",
    "\n",
    "![normal distribution](nd.png)"
   ]
  },
  {
   "cell_type": "code",
   "execution_count": 5,
   "metadata": {},
   "outputs": [
    {
     "data": {
      "text/plain": [
       "(array([ 1.,  1.,  2.,  1.,  3.,  0.,  3.,  3.,  6.,  9.,  6., 10., 14.,\n",
       "        10., 34., 23., 29., 38., 27., 43., 40., 45., 57., 58., 47., 63.,\n",
       "        48., 50., 41., 41., 46., 36., 31., 31., 19., 17., 15.,  9., 10.,\n",
       "        10.,  6.,  1.,  3.,  5.,  1.,  1.,  4.,  0.,  1.,  1.]),\n",
       " array([-149.07323833, -142.52578492, -135.97833151, -129.43087809,\n",
       "        -122.88342468, -116.33597127, -109.78851785, -103.24106444,\n",
       "         -96.69361103,  -90.14615761,  -83.5987042 ,  -77.05125079,\n",
       "         -70.50379737,  -63.95634396,  -57.40889055,  -50.86143713,\n",
       "         -44.31398372,  -37.76653031,  -31.21907689,  -24.67162348,\n",
       "         -18.12417007,  -11.57671665,   -5.02926324,    1.51819017,\n",
       "           8.06564359,   14.613097  ,   21.16055041,   27.70800383,\n",
       "          34.25545724,   40.80291065,   47.35036407,   53.89781748,\n",
       "          60.44527089,   66.99272431,   73.54017772,   80.08763113,\n",
       "          86.63508455,   93.18253796,   99.72999137,  106.27744479,\n",
       "         112.8248982 ,  119.37235161,  125.91980503,  132.46725844,\n",
       "         139.01471186,  145.56216527,  152.10961868,  158.6570721 ,\n",
       "         165.20452551,  171.75197892,  178.29943234]),\n",
       " <a list of 50 Patch objects>)"
      ]
     },
     "execution_count": 5,
     "metadata": {},
     "output_type": "execute_result"
    },
    {
     "data": {
      "image/png": "[encoded data removed]",
      "text/plain": [
       "<Figure size 432x288 with 2 Axes>"
      ]
     },
     "metadata": {
      "needs_background": "light"
     },
     "output_type": "display_data"
    }
   ],
   "source": [
    "# your code here\n",
    "import math\n",
    "from scipy.stats import norm\n",
    "\n",
    "s= np.random.normal(10,1,1000)\n",
    "a= np.random.normal(10,50,1000)\n",
    "\n",
    "fg, [ax1,ax2]=plt.subplots(1, 2,sharey=True)\n",
    "ax1.hist(s,bins=50)\n",
    "ax2.hist(a,bins=50)\n",
    "    "
   ]
  },
  {
   "cell_type": "markdown",
   "metadata": {},
   "source": [
    "How are the two distributions different?"
   ]
  },
  {
   "cell_type": "code",
   "execution_count": null,
   "metadata": {},
   "outputs": [],
   "source": [
    "# your answer below\n",
    "Porque la desviación estándar es diferente y eso hace que los datos tengan más rango y aunque una distrbución 50 la función normal , normaliza los parametros "
   ]
  },
  {
   "cell_type": "markdown",
   "metadata": {},
   "source": [
    "## Normal Distribution of Real Data\n",
    "\n",
    "In this challenge we are going to take a look the real data. We will use vehicles.csv file for this exercise"
   ]
  },
  {
   "cell_type": "markdown",
   "metadata": {},
   "source": [
    "First import vehicles.csv.\n",
    "Then plot the histograms for the following variables:\n",
    "\n",
    "1. Fuel Barrels/Year"
   ]
  },
  {
   "cell_type": "code",
   "execution_count": 6,
   "metadata": {},
   "outputs": [
    {
     "data": {
      "text/plain": [
       "<matplotlib.axes._subplots.AxesSubplot at 0x1e8f2eeb9c8>"
      ]
     },
     "execution_count": 6,
     "metadata": {},
     "output_type": "execute_result"
    },
    {
     "data": {
      "image/png": "[encoded data removed]",
      "text/plain": [
       "<Figure size 432x288 with 1 Axes>"
      ]
     },
     "metadata": {
      "needs_background": "light"
     },
     "output_type": "display_data"
    }
   ],
   "source": [
    "# your code here\n",
    "import pandas as pd\n",
    "vehicles=pd.read_csv('vehicles.csv')\n",
    "vehicles.head()\n",
    "\n",
    "\n",
    "vehicles['Fuel Barrels/Year'].hist()\n"
   ]
  },
  {
   "cell_type": "markdown",
   "metadata": {},
   "source": [
    "2. CO2 Emission Grams/Mile "
   ]
  },
  {
   "cell_type": "code",
   "execution_count": 81,
   "metadata": {},
   "outputs": [
    {
     "data": {
      "text/plain": [
       "<matplotlib.axes._subplots.AxesSubplot at 0x23586d58888>"
      ]
     },
     "execution_count": 81,
     "metadata": {},
     "output_type": "execute_result"
    },
    {
     "data": {
      "image/png": "[encoded data removed]",
      "text/plain": [
       "<Figure size 432x288 with 1 Axes>"
      ]
     },
     "metadata": {
      "needs_background": "light"
     },
     "output_type": "display_data"
    }
   ],
   "source": [
    "# your code here\n",
    "vehicles['CO2 Emission Grams/Mile'].hist()"
   ]
  },
  {
   "cell_type": "markdown",
   "metadata": {},
   "source": [
    "3. Combined MPG"
   ]
  },
  {
   "cell_type": "code",
   "execution_count": 82,
   "metadata": {},
   "outputs": [
    {
     "data": {
      "text/plain": [
       "<matplotlib.axes._subplots.AxesSubplot at 0x2358722d808>"
      ]
     },
     "execution_count": 82,
     "metadata": {},
     "output_type": "execute_result"
    },
    {
     "data": {
      "image/png": "[encoded data removed]",
      "text/plain": [
       "<Figure size 432x288 with 1 Axes>"
      ]
     },
     "metadata": {
      "needs_background": "light"
     },
     "output_type": "display_data"
    }
   ],
   "source": [
    "# your code here\n",
    "vehicles['Combined MPG'].hist()"
   ]
  },
  {
   "cell_type": "markdown",
   "metadata": {},
   "source": [
    "Which one(s) of the variables are nearly normally distributed? How do you know?"
   ]
  },
  {
   "cell_type": "code",
   "execution_count": 97,
   "metadata": {},
   "outputs": [
    {
     "name": "stdout",
     "output_type": "stream",
     "text": [
      "140.9693750285639 4.5706775700934585 5.904515926242549\n"
     ]
    }
   ],
   "source": [
    "# your answer here\n",
    "\n",
    "a=vehicles['CO2 Emission Grams/Mile'].max()-vehicles['CO2 Emission Grams/Mile'].min()\n",
    "c=a/2\n",
    "m1=c-vehicles['CO2 Emission Grams/Mile'].mean()\n",
    "m1\n",
    "\n",
    "a=vehicles['Combined MPG'].max()-vehicles['Combined MPG'].min()\n",
    "c=a/2\n",
    "m2=c-vehicles['Combined MPG'].mean()\n",
    "m2\n",
    "\n",
    "\n",
    "a=vehicles['Fuel Barrels/Year'].max()-vehicles['Fuel Barrels/Year'].min()\n",
    "c=a/2\n",
    "m3=c-vehicles['Fuel Barrels/Year'].mean()\n",
    "m3\n",
    "\n",
    "print(m1,m2,m3)\n",
    "\n",
    "\n",
    "#El que se parece más a una distribución norma es Combined MPG\n"
   ]
  },
  {
   "cell_type": "markdown",
   "metadata": {},
   "source": [
    "## Exponential Distribution"
   ]
  },
  {
   "cell_type": "markdown",
   "metadata": {},
   "source": [
    "1. Using `numpy.random.exponential`, create a function that returns a list of numbers exponentially distributed with the mean of 10. \n",
    "\n",
    "1. Use the function to generate two number sequences with the size of 1 and 100.\n",
    "\n",
    "1. Plot the distributions as histograms with the nubmer of bins as 100.\n",
    "\n",
    "Your output should look like below:\n",
    "\n",
    "![exponential distribution](ed.png)"
   ]
  },
  {
   "cell_type": "code",
   "execution_count": 7,
   "metadata": {},
   "outputs": [
    {
     "data": {
      "image/png": "[encoded data removed]",
      "text/plain": [
       "<Figure size 432x288 with 2 Axes>"
      ]
     },
     "metadata": {
      "needs_background": "light"
     },
     "output_type": "display_data"
    }
   ],
   "source": [
    "# your code here\n",
    "\n",
    "exponendistribution= lambda a,c: np.random.exponential(scale=1/a, size=c)\n",
    "\n",
    "\n",
    "#def exponendistribution(a, c):\n",
    "    #return list(np.random.exponential(scale=1/a, size=c))\n",
    "\n",
    "hist5 = exponendistribution(10,1000)\n",
    "hist6 = exponendistribution(10,10000)\n",
    "fig, [ax1,ax2] = plt.subplots(1,2)\n",
    "ax1.hist(hist5, bins=100);\n",
    "ax2.hist(hist6, bins=100);"
   ]
  },
  {
   "cell_type": "markdown",
   "metadata": {},
   "source": [
    "How are the two distributions different?"
   ]
  },
  {
   "cell_type": "code",
   "execution_count": null,
   "metadata": {},
   "outputs": [],
   "source": [
    "# your answer here"
   ]
  },
  {
   "cell_type": "markdown",
   "metadata": {},
   "source": [
    "## Exponential Distribution of Real Data\n",
    "\n",
    "Suppose that the amount of time one spends in a bank is exponentially distributed with mean as 10 minutes (i.e. λ = 1/10). What is the probability that a customer will spend less than fifteen minutes in the bank? \n",
    "\n",
    "Write a code in python to solve this problem"
   ]
  },
  {
   "cell_type": "code",
   "execution_count": 16,
   "metadata": {},
   "outputs": [
    {
     "data": {
      "text/plain": [
       "77.68698398515703"
      ]
     },
     "execution_count": 16,
     "metadata": {},
     "output_type": "execute_result"
    }
   ],
   "source": [
    "# your answer here\n",
    "# Hint: This is same as saying P(x<15)\n",
    "#Usamos la distribución de Poisson.\n",
    "from scipy import stats\n",
    "from scipy.stats import expon\n",
    "menos15=expon.cdf(15,loc=0,scale=10)\n",
    "menos15*100"
   ]
  },
  {
   "cell_type": "markdown",
   "metadata": {},
   "source": [
    "What is the probability that the customer will spend more than 15 minutes"
   ]
  },
  {
   "cell_type": "code",
   "execution_count": null,
   "metadata": {},
   "outputs": [],
   "source": [
    "# your answer here"
   ]
  },
  {
   "cell_type": "code",
   "execution_count": 17,
   "metadata": {},
   "outputs": [
    {
     "data": {
      "text/plain": [
       "22.31301601484298"
      ]
     },
     "execution_count": 17,
     "metadata": {},
     "output_type": "execute_result"
    }
   ],
   "source": [
    "mas15=1-menos15\n",
    "mas15*100"
   ]
  },
  {
   "cell_type": "code",
   "execution_count": null,
   "metadata": {},
   "outputs": [],
   "source": []
  }
 ],
 "metadata": {
  "kernelspec": {
   "display_name": "Python 3",
   "language": "python",
   "name": "python3"
  },
  "language_info": {
   "codemirror_mode": {
    "name": "ipython",
    "version": 3
   },
   "file_extension": ".py",
   "mimetype": "text/x-python",
   "name": "python",
   "nbconvert_exporter": "python",
   "pygments_lexer": "ipython3",
   "version": "3.7.4"
  }
 },
 "nbformat": 4,
 "nbformat_minor": 2
}
